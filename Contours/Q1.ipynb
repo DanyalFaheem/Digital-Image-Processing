{
 "cells": [
  {
   "cell_type": "markdown",
   "metadata": {},
   "source": [
    "References:\n",
    "\n",
    "https://drive.google.com/file/d/1STKK4w3wAbHNCkI9idvV5KgFfV6mcH0u/view\n",
    "\n",
    "https://drive.google.com/file/d/1TDY6d2VvJ2A44Rke35BR3Wh1kx1GbKVj/view\n",
    "\n",
    "https://learnopencv.com/contour-detection-using-opencv-python-c/\n",
    "\n",
    "https://byjus.com/maths/angle-between-two-lines/\n",
    "\n",
    "https://www.geeksforgeeks.org/python-opencv-cv2-line-method/\n",
    "\n",
    "https://stackoverflow.com/questions/18632276/how-to-draw-a-line-on-an-image-in-opencv?rq=1\n",
    "\n",
    "https://www.programcreek.com/python/example/84098/cv2.line\n",
    "\n",
    "https://stackoverflow.com/questions/28260962/calculating-angles-between-line-segments-python-with-math-atan2"
   ]
  },
  {
   "cell_type": "markdown",
   "metadata": {},
   "source": [
    "Importing our required libraries"
   ]
  },
  {
   "cell_type": "code",
   "execution_count": 49,
   "metadata": {},
   "outputs": [],
   "source": [
    "import cv2\n",
    "import numpy as np\n",
    "import matplotlib.pyplot as plt\n",
    "import math"
   ]
  },
  {
   "cell_type": "markdown",
   "metadata": {},
   "source": [
    "Reading our images and converting to grayscale"
   ]
  },
  {
   "cell_type": "code",
   "execution_count": 50,
   "metadata": {},
   "outputs": [],
   "source": [
    "path = 'C:\\Danyal\\Work\\FAST\\Semester 5\\Digital Image Processing\\i192014_DanyalFaheem_19_A3\\`data\\img1.png'\n",
    "img = cv2.imread(path, cv2.IMREAD_GRAYSCALE)\n",
    "img_colour = cv2.imread(path, cv2.IMREAD_COLOR)"
   ]
  },
  {
   "cell_type": "markdown",
   "metadata": {},
   "source": [
    "Calculating the centers of the objects and connecting them with lines"
   ]
  },
  {
   "cell_type": "code",
   "execution_count": 51,
   "metadata": {},
   "outputs": [
    {
     "name": "stdout",
     "output_type": "stream",
     "text": [
      "3\n",
      "\n",
      "\n",
      "\n"
     ]
    },
    {
     "data": {
      "image/png": "[encoded data removed]",
      "text/plain": [
       "<Figure size 432x288 with 1 Axes>"
      ]
     },
     "metadata": {
      "needs_background": "light"
     },
     "output_type": "display_data"
    }
   ],
   "source": [
    "#Thresholding our image to convert to binary\n",
    "threshold, bw = cv2.threshold(img, 100, 255, cv2.THRESH_BINARY)  \n",
    "#Reading our image\n",
    "path = 'C:\\Danyal\\Work\\FAST\\Semester 5\\Digital Image Processing\\i192014_DanyalFaheem_19_A3\\`data\\img1.png'\n",
    "img_colour = cv2.imread(path, cv2.IMREAD_COLOR)\n",
    "#Finding the external contours of the image\n",
    "contours, hierarchy = cv2.findContours(bw,cv2.RETR_EXTERNAL,cv2.CHAIN_APPROX_SIMPLE)\n",
    "print(len(contours))\n",
    "#Intializing a list for later use\n",
    "points = []\n",
    "#Looping through all the contours\n",
    "for i in range(len(contours)):\n",
    "    #Finding the moments of each contour\n",
    "    M = cv2.moments(contours[i])\n",
    "    #Finding the centers of each contour\n",
    "    x = int(M[\"m10\"] / M[\"m00\"])\n",
    "    y = int(M[\"m01\"] / M[\"m00\"])\n",
    "    #Drawing a circle on each center of object\n",
    "    cv2.circle(img_colour, (x, y), 5, (0, 255, 0), -1)\n",
    "    #Appending the x and y axis for later user\n",
    "    points.append((x,y))\n",
    "temp = img_colour.copy()\n",
    "# print (points)\n",
    "distances = []\n",
    "#Looping through the x,y points of the centers\n",
    "for i in points:\n",
    "    for y in points:\n",
    "        if i != y:\n",
    "            #Draw line between the two centers\n",
    "            cv2.line(img_colour, i, y, (255, 0, 0), 2)\n",
    "            #If distance of line already not printed, write it on image\n",
    "            if (int(np.sqrt((y[0] - i[0])**2 + (y[1] - i[1])**2))) in distances:\n",
    "                print(\"\")\n",
    "            else:\n",
    "                #Calculating midpoints of lines to print length there\n",
    "                index = (int((i[0] + y[0]) / 2) , int((i[1] + y[1]) / 2) )\n",
    "                #Appending the line drawn so that it is not redrawn\n",
    "                distances.append(int(np.sqrt((y[0] - i[0])**2 + (y[1] - i[1])**2)))\n",
    "                #Printing the length of the lines calculated by the ((y2 - y1)^2  + (x2 - x1)^2)^0.5 formular\n",
    "                cv2.putText(img_colour, str((int(np.sqrt((y[0] - i[0])**2 + (y[1] - i[1])**2)))), (index),  2, 1, (255,0,0))\n",
    "plt.imshow(img_colour)\n",
    "plt.axis('off')\n",
    "plt.show()"
   ]
  },
  {
   "cell_type": "markdown",
   "metadata": {},
   "source": []
  },
  {
   "cell_type": "markdown",
   "metadata": {},
   "source": [
    "Now calculating the angles in between the lines"
   ]
  },
  {
   "cell_type": "code",
   "execution_count": 52,
   "metadata": {},
   "outputs": [
    {
     "name": "stdout",
     "output_type": "stream",
     "text": [
      "47.35783695963305\n",
      "[(104, 41), (64, 192)] [(104, 41), (199, 190)]\n",
      "58.32783607348122\n",
      "[(104, 41), (199, 190)] [(64, 192), (199, 190)]\n",
      "74\n",
      "[(64, 192), (104, 41)] [(64, 192), (199, 190)]\n"
     ]
    },
    {
     "data": {
      "image/png": "[encoded data removed]",
      "text/plain": [
       "<Figure size 432x288 with 1 Axes>"
      ]
     },
     "metadata": {
      "needs_background": "light"
     },
     "output_type": "display_data"
    }
   ],
   "source": [
    "#Code for angles calculation acquired from: \n",
    "#https://stackoverflow.com/questions/28260962/calculating-angles-between-line-segments-python-with-math-atan2\n",
    "def dot(vA, vB):\n",
    "    return vA[0]*vB[0]+vA[1]*vB[1]\n",
    "\n",
    "def ang(lineA, lineB):\n",
    "    # Get nicer vector form\n",
    "    vA = [(lineA[0][0]-lineA[1][0]), (lineA[0][1]-lineA[1][1])]\n",
    "    vB = [(lineB[0][0]-lineB[1][0]), (lineB[0][1]-lineB[1][1])]\n",
    "    # Get dot prod\n",
    "    dot_prod = dot(vA, vB)\n",
    "    # Get magnitudes\n",
    "    magA = dot(vA, vA)**0.5\n",
    "    magB = dot(vB, vB)**0.5\n",
    "    # Get cosine value\n",
    "    cos_ = dot_prod/magA/magB\n",
    "    # Get angle in radians and then convert to degrees\n",
    "    angle = math.acos(dot_prod/magB/magA)\n",
    "    # Basically doing angle <- angle mod 360\n",
    "    ang_deg = math.degrees(angle) % 360\n",
    "\n",
    "    if ang_deg-180 >= 0:\n",
    "        # As in if statement\n",
    "        return 360 - ang_deg\n",
    "    else:\n",
    "\n",
    "        return ang_deg\n",
    "#Traversing the list of points to draw lines\n",
    "for i in points:\n",
    "    for y in points:\n",
    "        if i != y:\n",
    "            #Draw line between the two centers\n",
    "            cv2.line(temp, i, y, (255, 0, 0), 2)\n",
    "\n",
    "\n",
    "#Create lines segments using the center of points\n",
    "line1 = [points[0], points[1]]\n",
    "line2 = [points[2], points[0]]\n",
    "line3 = [points[2], points[1]]\n",
    "line4 = [points[0], points[2]]\n",
    "\n",
    "print(ang(line2, line3))\n",
    "print(line2, line3)\n",
    "print(ang(line1, line3))\n",
    "print(line3, line1)\n",
    "print(int(ang(line4, line1)))\n",
    "print(line4, line1)\n",
    "\n",
    "#Calculate angles using the formulas provided\n",
    "#Write angles on the image\n",
    "cv2.putText(temp, str(int(ang(line2, line3))), (line2[0]),  2, 1, 255)\n",
    "cv2.putText(temp, str(int(ang(line1, line3))), (line1[1]),  2, 1, 255)\n",
    "cv2.putText(temp, str(int(ang(line4, line1))), (line4[0]),  2, 1, 255)\n",
    "\n",
    "plt.imshow(temp)\n",
    "plt.axis('off')\n",
    "plt.show()"
   ]
  }
 ],
 "metadata": {
  "interpreter": {
   "hash": "1549ce3063763f935520ac985005088d5bf77a87440f3a3f58b22301df0cff46"
  },
  "kernelspec": {
   "display_name": "Python 3.8.8 64-bit ('DIP': conda)",
   "language": "python",
   "name": "python3"
  },
  "language_info": {
   "codemirror_mode": {
    "name": "ipython",
    "version": 3
   },
   "file_extension": ".py",
   "mimetype": "text/x-python",
   "name": "python",
   "nbconvert_exporter": "python",
   "pygments_lexer": "ipython3",
   "version": "3.8.8"
  },
  "orig_nbformat": 4
 },
 "nbformat": 4,
 "nbformat_minor": 2
}
