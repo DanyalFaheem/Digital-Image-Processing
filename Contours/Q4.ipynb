{
 "cells": [
  {
   "cell_type": "markdown",
   "metadata": {},
   "source": [
    "References:\n",
    "\n",
    "https://drive.google.com/file/d/1STKK4w3wAbHNCkI9idvV5KgFfV6mcH0u/view\n",
    "\n",
    "https://drive.google.com/file/d/1TDY6d2VvJ2A44Rke35BR3Wh1kx1GbKVj/view\n",
    "\n",
    "https://learnopencv.com/contour-detection-using-opencv-python-c/\n",
    "\n",
    "https://learnopencv.com/reading-and-writing-videos-using-opencv/\n",
    "\n",
    "https://stackoverflow.com/questions/4918425/subtract-a-value-from-every-number-in-a-list-in-python"
   ]
  },
  {
   "cell_type": "markdown",
   "metadata": {},
   "source": [
    "Importing our required libraries"
   ]
  },
  {
   "cell_type": "code",
   "execution_count": 1,
   "metadata": {},
   "outputs": [],
   "source": [
    "import cv2\n",
    "import numpy as np\n",
    "import matplotlib.pyplot as plt"
   ]
  },
  {
   "cell_type": "markdown",
   "metadata": {},
   "source": [
    "Reading our video path"
   ]
  },
  {
   "cell_type": "code",
   "execution_count": 2,
   "metadata": {},
   "outputs": [],
   "source": [
    "path = r\"C:\\Danyal\\Work\\FAST\\Semester 5\\Digital Image Processing\\i192014_DanyalFaheem_19_A3\\`data\\animation.mp4\"\n",
    "video = cv2.VideoCapture(path)"
   ]
  },
  {
   "cell_type": "markdown",
   "metadata": {},
   "source": []
  },
  {
   "cell_type": "code",
   "execution_count": 4,
   "metadata": {},
   "outputs": [],
   "source": [
    "#Initiating a flag for later use\n",
    "flag = False\n",
    "#Reading our video path\n",
    "video = cv2.VideoCapture(path)\n",
    "#Making sure there is no error with the video object\n",
    "if video.isOpened() == False:\n",
    "    print(\"Error\")\n",
    "else:\n",
    "    #Calculating the fps of the video\n",
    "    fps = video.get(cv2.CAP_PROP_FPS)\n",
    "    fps = int(fps)\n",
    "#Looping till video plays\n",
    "while (video.isOpened()):\n",
    "    #Reading individual frames\n",
    "    ret, frame = video.read()\n",
    "    if ret == True:\n",
    "        #Thresholding our image to convert to Binary\n",
    "        gray =  cv2.cvtColor(frame,cv2.COLOR_BGR2GRAY)\n",
    "        thresh, out = cv2.threshold(gray,150,255,cv2.THRESH_BINARY)\n",
    "        #As we need the internal contours of the donut shape as well, finding the List contours\n",
    "        contours, hierarchy = cv2.findContours(out,cv2.RETR_LIST,cv2.CHAIN_APPROX_SIMPLE)\n",
    "        #Intializing our arrays for later use\n",
    "        setx = sety = []\n",
    "        #Looping through the entire contours list\n",
    "        for i in range(len(contours)):\n",
    "            #Finding the moments of the looping contours\n",
    "            M = cv2.moments(contours[i])\n",
    "            #Condition to make sure that we are not dividing by 0\n",
    "            if M[\"m00\"] != 0:\n",
    "                #Finding center points of objects\n",
    "                x = int(int(M[\"m10\"]) / int(M[\"m00\"]))\n",
    "                y = int(int(M[\"m01\"]) / int(M[\"m00\"]))\n",
    "                #Appending both x and y coordinates of the center points\n",
    "                setx.append(x)\n",
    "                sety.append(y)\n",
    "        #Subtracting max value in list from every value in list to give a range of 10    \n",
    "        setx = [x - max(setx) for x in setx]\n",
    "        sety = [y - max(sety) for y in sety]\n",
    "        #If all the centers of the objects lie in a range of 10 pixels, then we flip the flag and pause video\n",
    "        if max(setx) <= 10 and min(setx) >= -10 and max(sety) <= 10 and min(sety) >= -10:\n",
    "            flag = True\n",
    "            break\n",
    "        #Display frames \n",
    "        cv2.imshow('Frame',frame)\n",
    "        #Stop video if q pressed\n",
    "        if cv2.waitKey(fps) & 0xFF == ord('q'):\n",
    "                    break\n",
    "    else:\n",
    "        break\n",
    "        cv2.destroyAllWindows()\n",
    "#If our video was paused when all were in the centers, display the paused frame till any key pressed\n",
    "if flag == True:\n",
    "    cv2.imshow('Frame',frame)\n",
    "    cv2.waitKey(0)\n",
    "cv2.destroyAllWindows()\n",
    "video.release()"
   ]
  },
  {
   "cell_type": "code",
   "execution_count": null,
   "metadata": {},
   "outputs": [],
   "source": []
  }
 ],
 "metadata": {
  "interpreter": {
   "hash": "1549ce3063763f935520ac985005088d5bf77a87440f3a3f58b22301df0cff46"
  },
  "kernelspec": {
   "display_name": "Python 3.8.8 64-bit ('DIP': conda)",
   "language": "python",
   "name": "python3"
  },
  "language_info": {
   "codemirror_mode": {
    "name": "ipython",
    "version": 3
   },
   "file_extension": ".py",
   "mimetype": "text/x-python",
   "name": "python",
   "nbconvert_exporter": "python",
   "pygments_lexer": "ipython3",
   "version": "3.8.8"
  },
  "orig_nbformat": 4
 },
 "nbformat": 4,
 "nbformat_minor": 2
}
