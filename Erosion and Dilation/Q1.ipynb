{
 "cells": [
  {
   "cell_type": "markdown",
   "metadata": {},
   "source": [
    "Importing our required libraries"
   ]
  },
  {
   "cell_type": "code",
   "execution_count": 49,
   "metadata": {},
   "outputs": [],
   "source": [
    "import cv2\n",
    "import numpy as np\n",
    "import matplotlib.pyplot as plt"
   ]
  },
  {
   "cell_type": "markdown",
   "metadata": {},
   "source": [
    "Reading our images and converting to grayscale"
   ]
  },
  {
   "cell_type": "code",
   "execution_count": 50,
   "metadata": {},
   "outputs": [],
   "source": [
    "#Reading the first image\n",
    "patha = 'C:\\Danyal\\Work\\FAST\\Semester 5\\Digital Image Processing\\Assignment # 2\\Q-1a.jpg'\n",
    "imga = cv2.imread(patha, cv2.IMREAD_GRAYSCALE)\n",
    "#Reading the second image\n",
    "pathb = 'C:\\Danyal\\Work\\FAST\\Semester 5\\Digital Image Processing\\Assignment # 2\\Q-1b.jpg'\n",
    "imgb = cv2.imread(pathb, cv2.IMREAD_GRAYSCALE)\n"
   ]
  },
  {
   "cell_type": "markdown",
   "metadata": {},
   "source": [
    "Thresholding and getting the number of pixels"
   ]
  },
  {
   "cell_type": "code",
   "execution_count": 51,
   "metadata": {},
   "outputs": [
    {
     "data": {
      "image/png": "[encoded data removed]",
      "text/plain": [
       "<Figure size 1152x1152 with 5 Axes>"
      ]
     },
     "metadata": {
      "needs_background": "light"
     },
     "output_type": "display_data"
    },
    {
     "name": "stdout",
     "output_type": "stream",
     "text": [
      "1915\n"
     ]
    }
   ],
   "source": [
    "#Thresholding images to convert into a binary image\n",
    "threshold, imga1 = cv2.threshold(imga, 80, 255, cv2.THRESH_BINARY)\n",
    "threshold, imgb1 = cv2.threshold(imgb, 80, 255, cv2.THRESH_BINARY)\n",
    "\n",
    "#Applying bitwise_and to get the intersection of the 2 images\n",
    "img_bwa = cv2.bitwise_and(imga1, imgb1)\n",
    "\n",
    "#Displaying the values number of non zero pixels on the image\n",
    "cv2.putText(img_bwa,str(cv2.countNonZero(img_bwa)), (100,100), 3, 2, 255)\n",
    "\n",
    "#Displaying the image\n",
    "fig, axs = plt.subplots(1,5,figsize=(16,16))\n",
    "\n",
    "axs[0].imshow(imga,cmap='gray')\n",
    "axs[0].axis('off')\n",
    "axs[0].set_title('Original Image 1',fontsize='medium')\n",
    "\n",
    "axs[1].imshow(imga1,cmap='gray')\n",
    "axs[1].axis('off')\n",
    "axs[1].set_title('Threshold Image 1',fontsize='medium')\n",
    "\n",
    "axs[2].imshow(imgb,cmap='gray')\n",
    "axs[2].axis('off')\n",
    "axs[2].set_title('Original Image 2',fontsize='medium')\n",
    "\n",
    "axs[3].imshow(imgb1,cmap='gray')\n",
    "axs[3].axis('off')\n",
    "axs[3].set_title('Threshold Image 2',fontsize='medium')\n",
    "\n",
    "axs[4].imshow(img_bwa,cmap='gray')\n",
    "axs[4].axis('off')\n",
    "axs[4].set_title('Overlapping Region',fontsize='medium')\n",
    "plt.show()\n",
    "\n",
    "\n",
    "\n"
   ]
  }
 ],
 "metadata": {
  "interpreter": {
   "hash": "1549ce3063763f935520ac985005088d5bf77a87440f3a3f58b22301df0cff46"
  },
  "kernelspec": {
   "display_name": "Python 3.8.8 64-bit ('DIP': conda)",
   "language": "python",
   "name": "python3"
  },
  "language_info": {
   "codemirror_mode": {
    "name": "ipython",
    "version": 3
   },
   "file_extension": ".py",
   "mimetype": "text/x-python",
   "name": "python",
   "nbconvert_exporter": "python",
   "pygments_lexer": "ipython3",
   "version": "3.8.8"
  },
  "orig_nbformat": 4
 },
 "nbformat": 4,
 "nbformat_minor": 2
}
