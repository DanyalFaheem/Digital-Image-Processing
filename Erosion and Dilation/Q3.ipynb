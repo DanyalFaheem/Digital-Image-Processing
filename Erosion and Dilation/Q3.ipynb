{
 "cells": [
  {
   "cell_type": "markdown",
   "metadata": {},
   "source": [
    "Importing our required libraries"
   ]
  },
  {
   "cell_type": "code",
   "execution_count": 1,
   "metadata": {},
   "outputs": [],
   "source": [
    "import cv2\n",
    "import numpy as np\n",
    "import matplotlib.pyplot as plt"
   ]
  },
  {
   "cell_type": "markdown",
   "metadata": {},
   "source": [
    "Reading our image and converting to grayscale"
   ]
  },
  {
   "cell_type": "code",
   "execution_count": 2,
   "metadata": {},
   "outputs": [],
   "source": [
    "path = 'C:\\Danyal\\Work\\FAST\\Semester 5\\Digital Image Processing\\Assignment # 2\\Q-3.jpg'\n",
    "img = cv2.imread(path, cv2.IMREAD_GRAYSCALE)\n"
   ]
  },
  {
   "cell_type": "markdown",
   "metadata": {},
   "source": [
    "Applying sobel operator to get the corners of the image"
   ]
  },
  {
   "cell_type": "code",
   "execution_count": 3,
   "metadata": {},
   "outputs": [
    {
     "data": {
      "image/png": "[encoded data removed]",
      "text/plain": [
       "<Figure size 1152x576 with 4 Axes>"
      ]
     },
     "metadata": {
      "needs_background": "light"
     },
     "output_type": "display_data"
    }
   ],
   "source": [
    "\n",
    "# Apply Sobel Both in  X and Y direction\n",
    "sobelxy = cv2.Sobel(src=img, ddepth=cv2.CV_64F, dx=1, dy=1, ksize=3) \n",
    "#Tresholding the absolute value of sobelxy\n",
    "threshold, imgb1 = cv2.threshold(abs(sobelxy), 80, 254, cv2.THRESH_BINARY)\n",
    "#Tresholding the absolute value of sobelxy in inverse colours\n",
    "threshold, imga1 = cv2.threshold(abs(sobelxy), 80, 254, cv2.THRESH_BINARY_INV)\n",
    "\n",
    "#Displaying our image\n",
    "fig, axs = plt.subplots(1,4,figsize=(16,8))\n",
    "\n",
    "axs[0].imshow(img,cmap='gray')\n",
    "axs[0].axis('off')\n",
    "axs[0].set_title('Original Image',fontsize='medium')\n",
    "\n",
    "axs[1].imshow(sobelxy,cmap='gray')\n",
    "axs[1].axis('off')\n",
    "axs[1].set_title('Sobel in xy-direction',fontsize='medium')\n",
    "\n",
    "axs[2].imshow(imgb1,cmap='gray')\n",
    "axs[2].axis('off')\n",
    "axs[2].set_title('Thresholded sobelxy',fontsize='medium')\n",
    "\n",
    "axs[3].imshow(imga1, cmap = 'gray')\n",
    "axs[3].axis('off')\n",
    "axs[3].set_title('Thresholded Inverse Sobelxy',fontsize='medium')\n",
    "\n",
    "\n",
    "plt.show()"
   ]
  },
  {
   "cell_type": "markdown",
   "metadata": {},
   "source": [
    "Calculating the length and width and area"
   ]
  },
  {
   "cell_type": "code",
   "execution_count": 4,
   "metadata": {},
   "outputs": [],
   "source": [
    "#Defining global variables\n",
    "counter = 0\n",
    "length = 20\n",
    "width = 10\n",
    "\n",
    "#Function to calculate the length and width\n",
    "def calcSides():\n",
    "    global counter, length, width\n",
    "    for x in imgb1:\n",
    "        count = 0\n",
    "        for y in x:\n",
    "            #if pixel is white\n",
    "            if y > 200:\n",
    "                index_x = counter + 20\n",
    "                index_y = count + 10\n",
    "                #Loop to increment length till next pixel found on the same x axis\n",
    "                while True:\n",
    "                    if imgb1[index_x][count] > 200:\n",
    "                        break\n",
    "                    length += 1\n",
    "                    index_x += 1\n",
    "                #Loop to increment width till next pixel found on the same y axis\n",
    "                while True:\n",
    "                    if imgb1[counter][index_y + 1] > 200:\n",
    "                        break\n",
    "                    width += 1\n",
    "                    index_y += 1\n",
    "                #return to stop infinite looping\n",
    "                return\n",
    "            count += 1\n",
    "        counter += 1 \n",
    "calcSides()\n",
    "\n",
    "#Writing the area of rectangle on the image\n",
    "cv2.putText(img, str(length * width), (100, 150), 1, 2, 0)\n",
    "\n",
    "#Displaying image\n",
    "cv2.imshow('img',img)\n",
    "cv2.waitKey(0)\n",
    "cv2.destroyAllWindows()"
   ]
  }
 ],
 "metadata": {
  "interpreter": {
   "hash": "1549ce3063763f935520ac985005088d5bf77a87440f3a3f58b22301df0cff46"
  },
  "kernelspec": {
   "display_name": "Python 3.8.8 64-bit ('DIP': conda)",
   "language": "python",
   "name": "python3"
  },
  "language_info": {
   "codemirror_mode": {
    "name": "ipython",
    "version": 3
   },
   "file_extension": ".py",
   "mimetype": "text/x-python",
   "name": "python",
   "nbconvert_exporter": "python",
   "pygments_lexer": "ipython3",
   "version": "3.8.8"
  },
  "orig_nbformat": 4
 },
 "nbformat": 4,
 "nbformat_minor": 2
}
