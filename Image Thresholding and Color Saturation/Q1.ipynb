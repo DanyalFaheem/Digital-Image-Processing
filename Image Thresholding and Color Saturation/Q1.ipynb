{
 "cells": [
  {
   "cell_type": "code",
   "execution_count": 9,
   "metadata": {},
   "outputs": [],
   "source": [
    "#Importing our libraries for use\n",
    "import cv2\n",
    "import numpy as np\n",
    "import matplotlib.pyplot as plt"
   ]
  },
  {
   "cell_type": "markdown",
   "metadata": {},
   "source": [
    "Reading our image and converting it to grayscale"
   ]
  },
  {
   "cell_type": "code",
   "execution_count": 10,
   "metadata": {},
   "outputs": [],
   "source": [
    "#Reading our image and then converting it to grayscale\n",
    "path = \"C:\\Danyal\\Work\\FAST\\Semester 5\\Digital Image Processing\\I192014 Danyal Faheem - Assignment#1\\Assignment#1\\img.jpg\"\n",
    "img = cv2.imread(path, cv2.IMREAD_GRAYSCALE)\n",
    "# cv2.imshow('img',img)\n",
    "# cv2.waitKey(0)\n",
    "# cv2.destroyAllWindows()"
   ]
  },
  {
   "cell_type": "markdown",
   "metadata": {},
   "source": [
    "Manually pixel handling"
   ]
  },
  {
   "cell_type": "code",
   "execution_count": 11,
   "metadata": {},
   "outputs": [
    {
     "name": "stdout",
     "output_type": "stream",
     "text": [
      "(20, 270)\n",
      "(18, 190)\n",
      "(203, 46)\n",
      "(197, 273)\n",
      "(36, 38)\n",
      "(161, 111)\n",
      "(119, 248)\n",
      "[7, 96, 125, 147, 199, 207, 228]\n",
      "[795, 5678, 3776, 1556, 4545, 1760, 2024]\n"
     ]
    }
   ],
   "source": [
    "#Since we have multiple objects, grabbing the unique intensity values from the image in a python set\n",
    "pixel_set = {0}\n",
    "counter = 0\n",
    "count = 0\n",
    "for x in img:\n",
    "    for y in x:\n",
    "        pixel_set.add(y)\n",
    "# print(pixel_set)\n",
    "#Converting the set to a list to apply operations on it\n",
    "arr = list(pixel_set)\n",
    "arr.sort()\n",
    "#print(arr)\n",
    "#There are a range of intensity values in a single object\n",
    "#To decide on one intensity for each object, remove similar intensities in the range of 10 of each intensity\n",
    "for x in arr:\n",
    "    for y in arr:\n",
    "        if (y > x - 10 and y < x + 10):\n",
    "            arr.remove(y)\n",
    "#Running the same loop again to make sure only 1 intensity per object remains\n",
    "for x in arr:\n",
    "    for y in arr:\n",
    "        if (y > x - 5 and y < x + 5):\n",
    "            arr.remove(y)\n",
    "pixel_count = [0] * len(arr)\n",
    "#print(pixel_count)\n",
    "#Now that we have the intensity of each object, counting the number of pixels that are in a range of 10 of the selected pixel\n",
    "counter = 0\n",
    "for i in arr:\n",
    "    for x in img:\n",
    "        for y in x:\n",
    "                if (y > i - 10 and y < i + 10 and y != 0):\n",
    "                    pixel_count[counter] += 1\n",
    "    counter += 1\n",
    "counter = 0\n",
    "count = 0\n",
    "index = 0\n",
    "#Writing the counts of hte pixel on the location of each pixel we choose to use as our range pixel\n",
    "for i in arr:\n",
    "    counter = 0\n",
    "    for x in img:\n",
    "        count = 0\n",
    "        for y in x:\n",
    "            if y == i and y in pixel_set:\n",
    "                print((counter, count))\n",
    "                cv2.putText(img, str(pixel_count[index]), (counter, count), cv2.FONT_HERSHEY_SIMPLEX, 0.5, (209, 80, 0, 255), 1)\n",
    "                pixel_set.remove(y)\n",
    "            count += 1\n",
    "        counter += 1     \n",
    "    index += 1   \n",
    "\n",
    "#Displaying the new image\n",
    "print(arr)\n",
    "print(pixel_count)\n",
    "cv2.imshow('img',img)\n",
    "cv2.waitKey(0)\n",
    "cv2.destroyAllWindows()"
   ]
  },
  {
   "cell_type": "markdown",
   "metadata": {},
   "source": [
    "OpenCV implementation"
   ]
  },
  {
   "cell_type": "code",
   "execution_count": null,
   "metadata": {},
   "outputs": [],
   "source": [
    "img = cv2.imread(path, cv2.IMREAD_GRAYSCALE)\n",
    "#Since we have multiple objects, grabbing the unique intensity values from the image in a python set\n",
    "pixel_set = {0}\n",
    "counter = 0\n",
    "count = 0\n",
    "for x in img:\n",
    "    for y in x:\n",
    "        pixel_set.add(y)\n",
    "# print(pixel_set)\n",
    "#Converting the set to a list to apply operations on it\n",
    "arr = list(pixel_set)\n",
    "arr.sort()\n"
   ]
  }
 ],
 "metadata": {
  "interpreter": {
   "hash": "1549ce3063763f935520ac985005088d5bf77a87440f3a3f58b22301df0cff46"
  },
  "kernelspec": {
   "display_name": "Python 3.8.8 64-bit ('DIP': conda)",
   "name": "python3"
  },
  "language_info": {
   "codemirror_mode": {
    "name": "ipython",
    "version": 3
   },
   "file_extension": ".py",
   "mimetype": "text/x-python",
   "name": "python",
   "nbconvert_exporter": "python",
   "pygments_lexer": "ipython3",
   "version": "3.8.8"
  },
  "orig_nbformat": 4
 },
 "nbformat": 4,
 "nbformat_minor": 2
}
