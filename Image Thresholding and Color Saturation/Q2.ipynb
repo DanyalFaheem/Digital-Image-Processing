{
 "cells": [
  {
   "cell_type": "code",
   "execution_count": 37,
   "metadata": {},
   "outputs": [],
   "source": [
    "#Importing our libraries for use\n",
    "import cv2\n",
    "import numpy as np\n",
    "import matplotlib.pyplot as plt"
   ]
  },
  {
   "cell_type": "markdown",
   "metadata": {},
   "source": [
    "Reading the image and converting to Grayscale"
   ]
  },
  {
   "cell_type": "code",
   "execution_count": 38,
   "metadata": {},
   "outputs": [],
   "source": [
    "#Reading our image and then converting it to grayscale\n",
    "path = \"C:\\Danyal\\Work\\FAST\\Semester 5\\Digital Image Processing\\I192014 Danyal Faheem - Assignment#1\\Assignment#1\\img2.jpg\"\n",
    "img = cv2.imread(path, cv2.IMREAD_GRAYSCALE)\n",
    "# cv2.imshow('img',img)\n",
    "# cv2.waitKey(0)\n",
    "# cv2.destroyAllWindows()\n"
   ]
  },
  {
   "cell_type": "markdown",
   "metadata": {},
   "source": [
    "Thresholding to Obtain hand"
   ]
  },
  {
   "cell_type": "code",
   "execution_count": 39,
   "metadata": {},
   "outputs": [],
   "source": [
    "#Traversing the image array and taking the negative of any white pixels in the array\n",
    "counter = 0\n",
    "for x in img:\n",
    "    count = 0\n",
    "    for y in x:\n",
    "        if y > 254:\n",
    "            img[counter][count] -= 255\n",
    "        count += 1\n",
    "    counter += 1  \n",
    "# Displaying the image\n",
    "cv2.imshow('img',img)\n",
    "cv2.waitKey(0)\n",
    "cv2.destroyAllWindows()\n",
    "\n",
    "#print(img)\n",
    "\n",
    "\n"
   ]
  },
  {
   "cell_type": "markdown",
   "metadata": {},
   "source": [
    "Drawing Red dot on the the tallest figure"
   ]
  },
  {
   "cell_type": "code",
   "execution_count": 40,
   "metadata": {},
   "outputs": [],
   "source": [
    "#Reading the image again but not in grayscale mode to print red dot\n",
    "img = cv2.imread(path)\n",
    "\n",
    "#Using the first non white pixel we find, drawing a filled red circle at that spot\n",
    "def draw():\n",
    "    counter = 0      \n",
    "    for x in img:\n",
    "        count = 0\n",
    "        for y in x:\n",
    "            count2 = 0\n",
    "            for i in y:\n",
    "                if i < 254:\n",
    "                    cv2.circle(img, (counter + 27, count), 5, (0,0,255), -1)\n",
    "                    return\n",
    "                count2 += 1\n",
    "            count += 1\n",
    "        counter += 1 \n",
    "\n",
    "draw()\n",
    "\n",
    "#Displaying the image\n",
    "cv2.imshow('img',img)\n",
    "cv2.waitKey(0)\n",
    "cv2.destroyAllWindows()"
   ]
  }
 ],
 "metadata": {
  "interpreter": {
   "hash": "1549ce3063763f935520ac985005088d5bf77a87440f3a3f58b22301df0cff46"
  },
  "kernelspec": {
   "display_name": "Python 3.8.8 64-bit ('DIP': conda)",
   "name": "python3"
  },
  "language_info": {
   "codemirror_mode": {
    "name": "ipython",
    "version": 3
   },
   "file_extension": ".py",
   "mimetype": "text/x-python",
   "name": "python",
   "nbconvert_exporter": "python",
   "pygments_lexer": "ipython3",
   "version": "3.8.8"
  },
  "orig_nbformat": 4
 },
 "nbformat": 4,
 "nbformat_minor": 2
}
